{
 "cells": [
  {
   "cell_type": "code",
   "execution_count": 1,
   "id": "0d0d995a",
   "metadata": {},
   "outputs": [],
   "source": [
    "import pandas as pd \n",
    "import datetime as dt"
   ]
  },
  {
   "cell_type": "code",
   "execution_count": 3,
   "id": "ed892b1d",
   "metadata": {},
   "outputs": [
    {
     "data": {
      "text/plain": [
       "Timestamp('2015-03-31 09:32:15')"
      ]
     },
     "execution_count": 3,
     "metadata": {},
     "output_type": "execute_result"
    }
   ],
   "source": [
    "pd.Timestamp(\"2015-03-31 09:32:15\")\n"
   ]
  },
  {
   "cell_type": "code",
   "execution_count": 4,
   "id": "a2e3f36b",
   "metadata": {},
   "outputs": [
    {
     "data": {
      "text/plain": [
       "Timestamp('2000-02-13 21:12:02')"
      ]
     },
     "execution_count": 4,
     "metadata": {},
     "output_type": "execute_result"
    }
   ],
   "source": [
    "pd.Timestamp(dt.datetime(2000,2,13,21,12,2))"
   ]
  },
  {
   "cell_type": "markdown",
   "id": "de6be869",
   "metadata": {},
   "source": [
    "## The Pandas DateTimeIndex Object"
   ]
  },
  {
   "cell_type": "code",
   "execution_count": 5,
   "id": "e8a7a2c7",
   "metadata": {},
   "outputs": [],
   "source": [
    "date = [\"2016-01-02\", \"2017-04-03\", \"2019-09-21\"]"
   ]
  },
  {
   "cell_type": "code",
   "execution_count": 6,
   "id": "c28d835a",
   "metadata": {},
   "outputs": [
    {
     "data": {
      "text/plain": [
       "DatetimeIndex(['2016-01-02', '2017-04-03', '2019-09-21'], dtype='datetime64[ns]', freq=None)"
      ]
     },
     "execution_count": 6,
     "metadata": {},
     "output_type": "execute_result"
    }
   ],
   "source": [
    "pd.DatetimeIndex(date)"
   ]
  },
  {
   "cell_type": "code",
   "execution_count": 13,
   "id": "48332ade",
   "metadata": {},
   "outputs": [],
   "source": [
    "dates = [dt.date(2016,1,2), dt.date(2014,2,12), dt.date(2019,9,22)]\n",
    "dtIndex = pd.DatetimeIndex(dates)"
   ]
  },
  {
   "cell_type": "code",
   "execution_count": 12,
   "id": "87dd50c3",
   "metadata": {},
   "outputs": [
    {
     "data": {
      "text/plain": [
       "2016-01-02    100\n",
       "2014-02-12    200\n",
       "2019-09-22    300\n",
       "dtype: int64"
      ]
     },
     "execution_count": 12,
     "metadata": {},
     "output_type": "execute_result"
    }
   ],
   "source": [
    "values = [100, 200, 300]\n",
    "pd.Series(data = values, index=dtIndex)"
   ]
  },
  {
   "cell_type": "code",
   "execution_count": 14,
   "id": "1d86dae4",
   "metadata": {},
   "outputs": [],
   "source": [
    "times = pd.Series([\"2015-01-3\", \"2014/01/05\", \"2018\", \"July 4th, 1958\"])"
   ]
  },
  {
   "cell_type": "code",
   "execution_count": 15,
   "id": "30767aeb",
   "metadata": {},
   "outputs": [
    {
     "data": {
      "text/plain": [
       "0   2015-01-03\n",
       "1   2014-01-05\n",
       "2   2018-01-01\n",
       "3   1958-07-04\n",
       "dtype: datetime64[ns]"
      ]
     },
     "execution_count": 15,
     "metadata": {},
     "output_type": "execute_result"
    }
   ],
   "source": [
    "pd.to_datetime(times)"
   ]
  },
  {
   "cell_type": "code",
   "execution_count": 18,
   "id": "8a397ff5",
   "metadata": {},
   "outputs": [],
   "source": [
    "date = pd.Series([\"July 4th, 1996\", \"10/12/2011\", \"ABC\", \"2012/01/01\"])"
   ]
  },
  {
   "cell_type": "code",
   "execution_count": 20,
   "id": "311b530e",
   "metadata": {},
   "outputs": [
    {
     "data": {
      "text/plain": [
       "0   1996-07-04\n",
       "1   2011-10-12\n",
       "2          NaT\n",
       "3   2012-01-01\n",
       "dtype: datetime64[ns]"
      ]
     },
     "execution_count": 20,
     "metadata": {},
     "output_type": "execute_result"
    }
   ],
   "source": [
    "pd.to_datetime(date, errors='coerce')"
   ]
  },
  {
   "cell_type": "markdown",
   "id": "b4d11d2e",
   "metadata": {},
   "source": [
    "## Create Range of Dates with the pd.date_range() Method"
   ]
  },
  {
   "cell_type": "code",
   "execution_count": 21,
   "id": "605f5655",
   "metadata": {},
   "outputs": [
    {
     "data": {
      "text/plain": [
       "DatetimeIndex(['2012-12-31', '2013-12-31', '2014-12-31'], dtype='datetime64[ns]', freq='A-DEC')"
      ]
     },
     "execution_count": 21,
     "metadata": {},
     "output_type": "execute_result"
    }
   ],
   "source": [
    "pd.date_range(start=\"2012\", end=\"2015\", freq=\"Y\")"
   ]
  },
  {
   "cell_type": "code",
   "execution_count": 22,
   "id": "92581c11",
   "metadata": {},
   "outputs": [
    {
     "data": {
      "text/plain": [
       "DatetimeIndex(['2012-01-31', '2012-02-29', '2012-03-31', '2012-04-30',\n",
       "               '2012-05-31', '2012-06-30', '2012-07-31', '2012-08-31',\n",
       "               '2012-09-30', '2012-10-31', '2012-11-30', '2012-12-31',\n",
       "               '2013-01-31', '2013-02-28', '2013-03-31', '2013-04-30',\n",
       "               '2013-05-31', '2013-06-30', '2013-07-31', '2013-08-31',\n",
       "               '2013-09-30', '2013-10-31', '2013-11-30', '2013-12-31',\n",
       "               '2014-01-31', '2014-02-28', '2014-03-31', '2014-04-30',\n",
       "               '2014-05-31', '2014-06-30', '2014-07-31', '2014-08-31',\n",
       "               '2014-09-30', '2014-10-31', '2014-11-30', '2014-12-31'],\n",
       "              dtype='datetime64[ns]', freq='M')"
      ]
     },
     "execution_count": 22,
     "metadata": {},
     "output_type": "execute_result"
    }
   ],
   "source": [
    "pd.date_range(start=\"2012\", end=\"2015\", freq=\"M\")"
   ]
  },
  {
   "cell_type": "code",
   "execution_count": 23,
   "id": "e0cec7eb",
   "metadata": {},
   "outputs": [
    {
     "data": {
      "text/plain": [
       "DatetimeIndex(['2012-01-31', '2012-07-31', '2013-01-31', '2013-07-31',\n",
       "               '2014-01-31', '2014-07-31'],\n",
       "              dtype='datetime64[ns]', freq='6M')"
      ]
     },
     "execution_count": 23,
     "metadata": {},
     "output_type": "execute_result"
    }
   ],
   "source": [
    "pd.date_range(start=\"2012\", end=\"2015\", freq=\"6M\")"
   ]
  },
  {
   "cell_type": "markdown",
   "id": "6e5154d0",
   "metadata": {},
   "source": [
    "Y = Year\n",
    "M = Month\n",
    "B = Business Day\n",
    "W = Week\n",
    "H = Hour\n",
    "A = Year End"
   ]
  },
  {
   "cell_type": "code",
   "execution_count": 24,
   "id": "b1db7b0d",
   "metadata": {},
   "outputs": [
    {
     "data": {
      "text/plain": [
       "DatetimeIndex(['2012-01-02', '2012-01-09', '2012-01-16', '2012-01-23',\n",
       "               '2012-01-30', '2012-02-06', '2012-02-13', '2012-02-20',\n",
       "               '2012-02-27', '2012-03-05',\n",
       "               ...\n",
       "               '2014-10-27', '2014-11-03', '2014-11-10', '2014-11-17',\n",
       "               '2014-11-24', '2014-12-01', '2014-12-08', '2014-12-15',\n",
       "               '2014-12-22', '2014-12-29'],\n",
       "              dtype='datetime64[ns]', length=157, freq='W-MON')"
      ]
     },
     "execution_count": 24,
     "metadata": {},
     "output_type": "execute_result"
    }
   ],
   "source": [
    "pd.date_range(start=\"2012\", end=\"2015\", freq=\"W-MON\")"
   ]
  },
  {
   "cell_type": "code",
   "execution_count": 26,
   "id": "4e170a3b",
   "metadata": {},
   "outputs": [
    {
     "data": {
      "text/plain": [
       "DatetimeIndex(['2012-12-31', '2013-12-31', '2014-12-31'], dtype='datetime64[ns]', freq='A-DEC')"
      ]
     },
     "execution_count": 26,
     "metadata": {},
     "output_type": "execute_result"
    }
   ],
   "source": [
    "pd.date_range(start=\"2012\", end=\"2015\", freq=\"A\")"
   ]
  },
  {
   "cell_type": "code",
   "execution_count": 29,
   "id": "ad464d9e",
   "metadata": {},
   "outputs": [
    {
     "data": {
      "text/plain": [
       "DatetimeIndex(['2012-02-09', '2012-02-10', '2012-02-13', '2012-02-14',\n",
       "               '2012-02-15', '2012-02-16', '2012-02-17', '2012-02-20',\n",
       "               '2012-02-21', '2012-02-22', '2012-02-23', '2012-02-24',\n",
       "               '2012-02-27', '2012-02-28', '2012-02-29', '2012-03-01',\n",
       "               '2012-03-02', '2012-03-05', '2012-03-06', '2012-03-07',\n",
       "               '2012-03-08', '2012-03-09', '2012-03-12', '2012-03-13',\n",
       "               '2012-03-14'],\n",
       "              dtype='datetime64[ns]', freq='B')"
      ]
     },
     "execution_count": 29,
     "metadata": {},
     "output_type": "execute_result"
    }
   ],
   "source": [
    "pd.date_range(start=\"2012-02-09\", periods=25, freq=\"B\")"
   ]
  },
  {
   "cell_type": "code",
   "execution_count": 30,
   "id": "e8df164f",
   "metadata": {},
   "outputs": [
    {
     "data": {
      "text/plain": [
       "25"
      ]
     },
     "execution_count": 30,
     "metadata": {},
     "output_type": "execute_result"
    }
   ],
   "source": [
    "len(pd.date_range(start=\"2012-02-09\", periods=25, freq=\"B\"))"
   ]
  },
  {
   "cell_type": "code",
   "execution_count": 31,
   "id": "1003d342",
   "metadata": {},
   "outputs": [
    {
     "data": {
      "text/plain": [
       "DatetimeIndex(['2012-01-16', '2012-01-17', '2012-01-18', '2012-01-19',\n",
       "               '2012-01-20', '2012-01-21', '2012-01-22', '2012-01-23',\n",
       "               '2012-01-24', '2012-01-25', '2012-01-26', '2012-01-27',\n",
       "               '2012-01-28', '2012-01-29', '2012-01-30', '2012-01-31',\n",
       "               '2012-02-01', '2012-02-02', '2012-02-03', '2012-02-04',\n",
       "               '2012-02-05', '2012-02-06', '2012-02-07', '2012-02-08',\n",
       "               '2012-02-09'],\n",
       "              dtype='datetime64[ns]', freq='D')"
      ]
     },
     "execution_count": 31,
     "metadata": {},
     "output_type": "execute_result"
    }
   ],
   "source": [
    "pd.date_range(end=\"2012-02-09\", periods=25, freq=\"D\")"
   ]
  },
  {
   "cell_type": "markdown",
   "id": "d0e0795a",
   "metadata": {},
   "source": [
    "## .dt Accessor"
   ]
  },
  {
   "cell_type": "code",
   "execution_count": 33,
   "id": "5930d7c7",
   "metadata": {},
   "outputs": [],
   "source": [
    "bunch_of_date = pd.date_range(start=\"2012-02-09\", end=\"2015-02-09\",freq=\"24D\")"
   ]
  },
  {
   "cell_type": "code",
   "execution_count": 35,
   "id": "3baa9a29",
   "metadata": {},
   "outputs": [],
   "source": [
    "s = pd.Series(bunch_of_date)"
   ]
  },
  {
   "cell_type": "code",
   "execution_count": 46,
   "id": "59f84ef5",
   "metadata": {},
   "outputs": [],
   "source": [
    "mask = s.dt.is_month_end"
   ]
  },
  {
   "cell_type": "code",
   "execution_count": 47,
   "id": "68650b70",
   "metadata": {},
   "outputs": [
    {
     "data": {
      "text/plain": [
       "44   2014-12-31\n",
       "dtype: datetime64[ns]"
      ]
     },
     "execution_count": 47,
     "metadata": {},
     "output_type": "execute_result"
    }
   ],
   "source": [
    "s[mask]"
   ]
  },
  {
   "cell_type": "markdown",
   "id": "974b1201",
   "metadata": {},
   "source": [
    "## Import Financial Dataset with pandas_datareader Library"
   ]
  },
  {
   "cell_type": "code",
   "execution_count": 49,
   "id": "edc06c5b",
   "metadata": {},
   "outputs": [],
   "source": [
    "import pandas as pd \n",
    "import datetime as dt\n",
    "from pandas_datareader import data"
   ]
  },
  {
   "cell_type": "code",
   "execution_count": 51,
   "id": "b8138007",
   "metadata": {},
   "outputs": [],
   "source": [
    "tsla_stock = data.DataReader(name=\"TSLA\", data_source=\"yahoo\", start=\"2015-01-01\", end=\"2022-01-01\")"
   ]
  },
  {
   "cell_type": "code",
   "execution_count": 53,
   "id": "abaf090a",
   "metadata": {},
   "outputs": [
    {
     "data": {
      "text/html": [
       "<div>\n",
       "<style scoped>\n",
       "    .dataframe tbody tr th:only-of-type {\n",
       "        vertical-align: middle;\n",
       "    }\n",
       "\n",
       "    .dataframe tbody tr th {\n",
       "        vertical-align: top;\n",
       "    }\n",
       "\n",
       "    .dataframe thead th {\n",
       "        text-align: right;\n",
       "    }\n",
       "</style>\n",
       "<table border=\"1\" class=\"dataframe\">\n",
       "  <thead>\n",
       "    <tr style=\"text-align: right;\">\n",
       "      <th></th>\n",
       "      <th>High</th>\n",
       "      <th>Low</th>\n",
       "      <th>Open</th>\n",
       "      <th>Close</th>\n",
       "      <th>Volume</th>\n",
       "      <th>Adj Close</th>\n",
       "    </tr>\n",
       "    <tr>\n",
       "      <th>Date</th>\n",
       "      <th></th>\n",
       "      <th></th>\n",
       "      <th></th>\n",
       "      <th></th>\n",
       "      <th></th>\n",
       "      <th></th>\n",
       "    </tr>\n",
       "  </thead>\n",
       "  <tbody>\n",
       "    <tr>\n",
       "      <th>2015-01-02</th>\n",
       "      <td>44.650002</td>\n",
       "      <td>42.652000</td>\n",
       "      <td>44.574001</td>\n",
       "      <td>43.862000</td>\n",
       "      <td>23822000.0</td>\n",
       "      <td>43.862000</td>\n",
       "    </tr>\n",
       "    <tr>\n",
       "      <th>2015-01-05</th>\n",
       "      <td>43.299999</td>\n",
       "      <td>41.431999</td>\n",
       "      <td>42.910000</td>\n",
       "      <td>42.018002</td>\n",
       "      <td>26842500.0</td>\n",
       "      <td>42.018002</td>\n",
       "    </tr>\n",
       "    <tr>\n",
       "      <th>2015-01-06</th>\n",
       "      <td>42.840000</td>\n",
       "      <td>40.841999</td>\n",
       "      <td>42.012001</td>\n",
       "      <td>42.256001</td>\n",
       "      <td>31309500.0</td>\n",
       "      <td>42.256001</td>\n",
       "    </tr>\n",
       "  </tbody>\n",
       "</table>\n",
       "</div>"
      ],
      "text/plain": [
       "                 High        Low       Open      Close      Volume  Adj Close\n",
       "Date                                                                         \n",
       "2015-01-02  44.650002  42.652000  44.574001  43.862000  23822000.0  43.862000\n",
       "2015-01-05  43.299999  41.431999  42.910000  42.018002  26842500.0  42.018002\n",
       "2015-01-06  42.840000  40.841999  42.012001  42.256001  31309500.0  42.256001"
      ]
     },
     "execution_count": 53,
     "metadata": {},
     "output_type": "execute_result"
    }
   ],
   "source": [
    "tsla_stock.head(3)"
   ]
  },
  {
   "cell_type": "code",
   "execution_count": 54,
   "id": "8db0fbaf",
   "metadata": {},
   "outputs": [
    {
     "data": {
      "text/plain": [
       "Index(['High', 'Low', 'Open', 'Close', 'Volume', 'Adj Close'], dtype='object')"
      ]
     },
     "execution_count": 54,
     "metadata": {},
     "output_type": "execute_result"
    }
   ],
   "source": [
    "tsla_stock.columns"
   ]
  },
  {
   "cell_type": "code",
   "execution_count": 55,
   "id": "1612ab4d",
   "metadata": {},
   "outputs": [
    {
     "data": {
      "text/plain": [
       "DatetimeIndex(['2015-01-02', '2015-01-05', '2015-01-06', '2015-01-07',\n",
       "               '2015-01-08', '2015-01-09', '2015-01-12', '2015-01-13',\n",
       "               '2015-01-14', '2015-01-15',\n",
       "               ...\n",
       "               '2021-12-17', '2021-12-20', '2021-12-21', '2021-12-22',\n",
       "               '2021-12-23', '2021-12-27', '2021-12-28', '2021-12-29',\n",
       "               '2021-12-30', '2021-12-31'],\n",
       "              dtype='datetime64[ns]', name='Date', length=1763, freq=None)"
      ]
     },
     "execution_count": 55,
     "metadata": {},
     "output_type": "execute_result"
    }
   ],
   "source": [
    "tsla_stock.index"
   ]
  },
  {
   "cell_type": "code",
   "execution_count": 56,
   "id": "9a2c4ec4",
   "metadata": {},
   "outputs": [
    {
     "data": {
      "text/plain": [
       "[DatetimeIndex(['2015-01-02', '2015-01-05', '2015-01-06', '2015-01-07',\n",
       "                '2015-01-08', '2015-01-09', '2015-01-12', '2015-01-13',\n",
       "                '2015-01-14', '2015-01-15',\n",
       "                ...\n",
       "                '2021-12-17', '2021-12-20', '2021-12-21', '2021-12-22',\n",
       "                '2021-12-23', '2021-12-27', '2021-12-28', '2021-12-29',\n",
       "                '2021-12-30', '2021-12-31'],\n",
       "               dtype='datetime64[ns]', name='Date', length=1763, freq=None),\n",
       " Index(['High', 'Low', 'Open', 'Close', 'Volume', 'Adj Close'], dtype='object')]"
      ]
     },
     "execution_count": 56,
     "metadata": {},
     "output_type": "execute_result"
    }
   ],
   "source": [
    "tsla_stock.axes"
   ]
  },
  {
   "cell_type": "markdown",
   "id": "75da5b00",
   "metadata": {},
   "source": [
    "## Selecting Rows from a DataFrame with a DatetimeIndex"
   ]
  },
  {
   "cell_type": "code",
   "execution_count": 70,
   "id": "a4f22a38",
   "metadata": {},
   "outputs": [],
   "source": [
    "tsla = data.DataReader(name=\"TSLA\", data_source=\"yahoo\", start=\"2015-01-01\", end=\"2022-01-01\")"
   ]
  },
  {
   "cell_type": "code",
   "execution_count": 59,
   "id": "0b799d65",
   "metadata": {},
   "outputs": [
    {
     "data": {
      "text/plain": [
       "High         3.919000e+01\n",
       "Low          3.654000e+01\n",
       "Open         3.885000e+01\n",
       "Close        3.727000e+01\n",
       "Volume       3.356100e+07\n",
       "Adj Close    3.727000e+01\n",
       "Name: 2016-03-01 00:00:00, dtype: float64"
      ]
     },
     "execution_count": 59,
     "metadata": {},
     "output_type": "execute_result"
    }
   ],
   "source": [
    "tsla.loc[\"2016-03-01\"]"
   ]
  },
  {
   "cell_type": "code",
   "execution_count": 60,
   "id": "2579c646",
   "metadata": {},
   "outputs": [
    {
     "data": {
      "text/plain": [
       "High         4.786000e+01\n",
       "Low          4.688800e+01\n",
       "Open         4.743000e+01\n",
       "Close        4.747400e+01\n",
       "Volume       2.132450e+07\n",
       "Adj Close    4.747400e+01\n",
       "Name: 2015-08-11 00:00:00, dtype: float64"
      ]
     },
     "execution_count": 60,
     "metadata": {},
     "output_type": "execute_result"
    }
   ],
   "source": [
    "tsla.iloc[152]"
   ]
  },
  {
   "cell_type": "code",
   "execution_count": 64,
   "id": "ec8440a8",
   "metadata": {},
   "outputs": [
    {
     "data": {
      "text/html": [
       "<div>\n",
       "<style scoped>\n",
       "    .dataframe tbody tr th:only-of-type {\n",
       "        vertical-align: middle;\n",
       "    }\n",
       "\n",
       "    .dataframe tbody tr th {\n",
       "        vertical-align: top;\n",
       "    }\n",
       "\n",
       "    .dataframe thead th {\n",
       "        text-align: right;\n",
       "    }\n",
       "</style>\n",
       "<table border=\"1\" class=\"dataframe\">\n",
       "  <thead>\n",
       "    <tr style=\"text-align: right;\">\n",
       "      <th></th>\n",
       "      <th>High</th>\n",
       "      <th>Low</th>\n",
       "      <th>Open</th>\n",
       "      <th>Close</th>\n",
       "      <th>Volume</th>\n",
       "      <th>Adj Close</th>\n",
       "    </tr>\n",
       "    <tr>\n",
       "      <th>Date</th>\n",
       "      <th></th>\n",
       "      <th></th>\n",
       "      <th></th>\n",
       "      <th></th>\n",
       "      <th></th>\n",
       "      <th></th>\n",
       "    </tr>\n",
       "  </thead>\n",
       "  <tbody>\n",
       "    <tr>\n",
       "      <th>2019-10-01</th>\n",
       "      <td>49.189999</td>\n",
       "      <td>47.826000</td>\n",
       "      <td>48.299999</td>\n",
       "      <td>48.938000</td>\n",
       "      <td>30813000.0</td>\n",
       "      <td>48.938000</td>\n",
       "    </tr>\n",
       "    <tr>\n",
       "      <th>2019-10-02</th>\n",
       "      <td>48.930000</td>\n",
       "      <td>47.886002</td>\n",
       "      <td>48.658001</td>\n",
       "      <td>48.625999</td>\n",
       "      <td>28157000.0</td>\n",
       "      <td>48.625999</td>\n",
       "    </tr>\n",
       "    <tr>\n",
       "      <th>2019-10-03</th>\n",
       "      <td>46.896000</td>\n",
       "      <td>44.855999</td>\n",
       "      <td>46.372002</td>\n",
       "      <td>46.605999</td>\n",
       "      <td>75422500.0</td>\n",
       "      <td>46.605999</td>\n",
       "    </tr>\n",
       "    <tr>\n",
       "      <th>2019-10-04</th>\n",
       "      <td>46.956001</td>\n",
       "      <td>45.613998</td>\n",
       "      <td>46.321999</td>\n",
       "      <td>46.285999</td>\n",
       "      <td>39975000.0</td>\n",
       "      <td>46.285999</td>\n",
       "    </tr>\n",
       "    <tr>\n",
       "      <th>2019-10-07</th>\n",
       "      <td>47.712002</td>\n",
       "      <td>45.709999</td>\n",
       "      <td>45.959999</td>\n",
       "      <td>47.543999</td>\n",
       "      <td>40321000.0</td>\n",
       "      <td>47.543999</td>\n",
       "    </tr>\n",
       "    <tr>\n",
       "      <th>...</th>\n",
       "      <td>...</td>\n",
       "      <td>...</td>\n",
       "      <td>...</td>\n",
       "      <td>...</td>\n",
       "      <td>...</td>\n",
       "      <td>...</td>\n",
       "    </tr>\n",
       "    <tr>\n",
       "      <th>2020-12-24</th>\n",
       "      <td>666.090027</td>\n",
       "      <td>641.000000</td>\n",
       "      <td>642.989990</td>\n",
       "      <td>661.770020</td>\n",
       "      <td>22865600.0</td>\n",
       "      <td>661.770020</td>\n",
       "    </tr>\n",
       "    <tr>\n",
       "      <th>2020-12-28</th>\n",
       "      <td>681.400024</td>\n",
       "      <td>660.799988</td>\n",
       "      <td>674.510010</td>\n",
       "      <td>663.690002</td>\n",
       "      <td>32278600.0</td>\n",
       "      <td>663.690002</td>\n",
       "    </tr>\n",
       "    <tr>\n",
       "      <th>2020-12-29</th>\n",
       "      <td>669.900024</td>\n",
       "      <td>655.000000</td>\n",
       "      <td>661.000000</td>\n",
       "      <td>665.989990</td>\n",
       "      <td>22910800.0</td>\n",
       "      <td>665.989990</td>\n",
       "    </tr>\n",
       "    <tr>\n",
       "      <th>2020-12-30</th>\n",
       "      <td>696.599976</td>\n",
       "      <td>668.359985</td>\n",
       "      <td>672.000000</td>\n",
       "      <td>694.780029</td>\n",
       "      <td>42846000.0</td>\n",
       "      <td>694.780029</td>\n",
       "    </tr>\n",
       "    <tr>\n",
       "      <th>2020-12-31</th>\n",
       "      <td>718.719971</td>\n",
       "      <td>691.119995</td>\n",
       "      <td>699.989990</td>\n",
       "      <td>705.669983</td>\n",
       "      <td>49649900.0</td>\n",
       "      <td>705.669983</td>\n",
       "    </tr>\n",
       "  </tbody>\n",
       "</table>\n",
       "<p>317 rows × 6 columns</p>\n",
       "</div>"
      ],
      "text/plain": [
       "                  High         Low        Open       Close      Volume  \\\n",
       "Date                                                                     \n",
       "2019-10-01   49.189999   47.826000   48.299999   48.938000  30813000.0   \n",
       "2019-10-02   48.930000   47.886002   48.658001   48.625999  28157000.0   \n",
       "2019-10-03   46.896000   44.855999   46.372002   46.605999  75422500.0   \n",
       "2019-10-04   46.956001   45.613998   46.321999   46.285999  39975000.0   \n",
       "2019-10-07   47.712002   45.709999   45.959999   47.543999  40321000.0   \n",
       "...                ...         ...         ...         ...         ...   \n",
       "2020-12-24  666.090027  641.000000  642.989990  661.770020  22865600.0   \n",
       "2020-12-28  681.400024  660.799988  674.510010  663.690002  32278600.0   \n",
       "2020-12-29  669.900024  655.000000  661.000000  665.989990  22910800.0   \n",
       "2020-12-30  696.599976  668.359985  672.000000  694.780029  42846000.0   \n",
       "2020-12-31  718.719971  691.119995  699.989990  705.669983  49649900.0   \n",
       "\n",
       "             Adj Close  \n",
       "Date                    \n",
       "2019-10-01   48.938000  \n",
       "2019-10-02   48.625999  \n",
       "2019-10-03   46.605999  \n",
       "2019-10-04   46.285999  \n",
       "2019-10-07   47.543999  \n",
       "...                ...  \n",
       "2020-12-24  661.770020  \n",
       "2020-12-28  663.690002  \n",
       "2020-12-29  665.989990  \n",
       "2020-12-30  694.780029  \n",
       "2020-12-31  705.669983  \n",
       "\n",
       "[317 rows x 6 columns]"
      ]
     },
     "execution_count": 64,
     "metadata": {},
     "output_type": "execute_result"
    }
   ],
   "source": [
    "tsla.truncate(before=\"2019-10-01\", after=\"2020-12-31\")"
   ]
  },
  {
   "cell_type": "code",
   "execution_count": 66,
   "id": "587ddc9a",
   "metadata": {},
   "outputs": [],
   "source": [
    "birthday = pd.date_range(start=\"1998-09-21\",end=\"2022-09-21\", freq=pd.DateOffset(years = 1))"
   ]
  },
  {
   "cell_type": "code",
   "execution_count": 68,
   "id": "fe469fd4",
   "metadata": {},
   "outputs": [],
   "source": [
    "birthday_stock = tsla.index.isin(birthday)"
   ]
  },
  {
   "cell_type": "code",
   "execution_count": 72,
   "id": "5f85a34b",
   "metadata": {},
   "outputs": [
    {
     "data": {
      "text/html": [
       "<div>\n",
       "<style scoped>\n",
       "    .dataframe tbody tr th:only-of-type {\n",
       "        vertical-align: middle;\n",
       "    }\n",
       "\n",
       "    .dataframe tbody tr th {\n",
       "        vertical-align: top;\n",
       "    }\n",
       "\n",
       "    .dataframe thead th {\n",
       "        text-align: right;\n",
       "    }\n",
       "</style>\n",
       "<table border=\"1\" class=\"dataframe\">\n",
       "  <thead>\n",
       "    <tr style=\"text-align: right;\">\n",
       "      <th></th>\n",
       "      <th>High</th>\n",
       "      <th>Low</th>\n",
       "      <th>Open</th>\n",
       "      <th>Close</th>\n",
       "      <th>Volume</th>\n",
       "      <th>Adj Close</th>\n",
       "    </tr>\n",
       "    <tr>\n",
       "      <th>Date</th>\n",
       "      <th></th>\n",
       "      <th></th>\n",
       "      <th></th>\n",
       "      <th></th>\n",
       "      <th></th>\n",
       "      <th></th>\n",
       "    </tr>\n",
       "  </thead>\n",
       "  <tbody>\n",
       "    <tr>\n",
       "      <th>2015-09-21</th>\n",
       "      <td>54.313999</td>\n",
       "      <td>51.160000</td>\n",
       "      <td>52.796001</td>\n",
       "      <td>52.840000</td>\n",
       "      <td>30601000.0</td>\n",
       "      <td>52.840000</td>\n",
       "    </tr>\n",
       "    <tr>\n",
       "      <th>2016-09-21</th>\n",
       "      <td>41.400002</td>\n",
       "      <td>40.312000</td>\n",
       "      <td>41.273998</td>\n",
       "      <td>41.043999</td>\n",
       "      <td>13167500.0</td>\n",
       "      <td>41.043999</td>\n",
       "    </tr>\n",
       "    <tr>\n",
       "      <th>2017-09-21</th>\n",
       "      <td>75.365997</td>\n",
       "      <td>72.902000</td>\n",
       "      <td>74.980003</td>\n",
       "      <td>73.295998</td>\n",
       "      <td>23091000.0</td>\n",
       "      <td>73.295998</td>\n",
       "    </tr>\n",
       "    <tr>\n",
       "      <th>2018-09-21</th>\n",
       "      <td>60.116001</td>\n",
       "      <td>59.074001</td>\n",
       "      <td>59.540001</td>\n",
       "      <td>59.820000</td>\n",
       "      <td>25252500.0</td>\n",
       "      <td>59.820000</td>\n",
       "    </tr>\n",
       "    <tr>\n",
       "      <th>2020-09-21</th>\n",
       "      <td>455.679993</td>\n",
       "      <td>407.070007</td>\n",
       "      <td>453.130005</td>\n",
       "      <td>449.390015</td>\n",
       "      <td>109476800.0</td>\n",
       "      <td>449.390015</td>\n",
       "    </tr>\n",
       "    <tr>\n",
       "      <th>2021-09-21</th>\n",
       "      <td>744.739990</td>\n",
       "      <td>730.440002</td>\n",
       "      <td>734.789978</td>\n",
       "      <td>739.380005</td>\n",
       "      <td>16330700.0</td>\n",
       "      <td>739.380005</td>\n",
       "    </tr>\n",
       "  </tbody>\n",
       "</table>\n",
       "</div>"
      ],
      "text/plain": [
       "                  High         Low        Open       Close       Volume  \\\n",
       "Date                                                                      \n",
       "2015-09-21   54.313999   51.160000   52.796001   52.840000   30601000.0   \n",
       "2016-09-21   41.400002   40.312000   41.273998   41.043999   13167500.0   \n",
       "2017-09-21   75.365997   72.902000   74.980003   73.295998   23091000.0   \n",
       "2018-09-21   60.116001   59.074001   59.540001   59.820000   25252500.0   \n",
       "2020-09-21  455.679993  407.070007  453.130005  449.390015  109476800.0   \n",
       "2021-09-21  744.739990  730.440002  734.789978  739.380005   16330700.0   \n",
       "\n",
       "             Adj Close  \n",
       "Date                    \n",
       "2015-09-21   52.840000  \n",
       "2016-09-21   41.043999  \n",
       "2017-09-21   73.295998  \n",
       "2018-09-21   59.820000  \n",
       "2020-09-21  449.390015  \n",
       "2021-09-21  739.380005  "
      ]
     },
     "execution_count": 72,
     "metadata": {},
     "output_type": "execute_result"
    }
   ],
   "source": [
    "tsla[birthday_stock]"
   ]
  },
  {
   "cell_type": "markdown",
   "id": "de514e88",
   "metadata": {},
   "source": [
    "## Timestamp Object Attributes and Methods"
   ]
  },
  {
   "cell_type": "code",
   "execution_count": 74,
   "id": "7f590a29",
   "metadata": {},
   "outputs": [],
   "source": [
    "stocks = data.DataReader(name=\"TSLA\", data_source=\"yahoo\", start=\"2015-01-01\", end=\"2022-01-01\")"
   ]
  },
  {
   "cell_type": "code",
   "execution_count": 76,
   "id": "edb6676c",
   "metadata": {},
   "outputs": [],
   "source": [
    "someday = stocks.index[500]"
   ]
  },
  {
   "cell_type": "code",
   "execution_count": 77,
   "id": "b0ccc713",
   "metadata": {},
   "outputs": [
    {
     "data": {
      "text/plain": [
       "'Tuesday'"
      ]
     },
     "execution_count": 77,
     "metadata": {},
     "output_type": "execute_result"
    }
   ],
   "source": [
    "someday.day_name()"
   ]
  },
  {
   "cell_type": "code",
   "execution_count": 78,
   "id": "475ca645",
   "metadata": {},
   "outputs": [
    {
     "data": {
      "text/plain": [
       "Index(['Friday', 'Monday', 'Tuesday', 'Wednesday', 'Thursday', 'Friday',\n",
       "       'Monday', 'Tuesday', 'Wednesday', 'Thursday',\n",
       "       ...\n",
       "       'Friday', 'Monday', 'Tuesday', 'Wednesday', 'Thursday', 'Monday',\n",
       "       'Tuesday', 'Wednesday', 'Thursday', 'Friday'],\n",
       "      dtype='object', name='Date', length=1763)"
      ]
     },
     "execution_count": 78,
     "metadata": {},
     "output_type": "execute_result"
    }
   ],
   "source": [
    "stocks.index.day_name()"
   ]
  },
  {
   "cell_type": "code",
   "execution_count": 79,
   "id": "ca4c7a6e",
   "metadata": {},
   "outputs": [],
   "source": [
    "stocks.insert(0, \"Day of Week\", stocks.index.day_name())"
   ]
  },
  {
   "cell_type": "code",
   "execution_count": 81,
   "id": "a9d5d148",
   "metadata": {},
   "outputs": [
    {
     "data": {
      "text/html": [
       "<div>\n",
       "<style scoped>\n",
       "    .dataframe tbody tr th:only-of-type {\n",
       "        vertical-align: middle;\n",
       "    }\n",
       "\n",
       "    .dataframe tbody tr th {\n",
       "        vertical-align: top;\n",
       "    }\n",
       "\n",
       "    .dataframe thead th {\n",
       "        text-align: right;\n",
       "    }\n",
       "</style>\n",
       "<table border=\"1\" class=\"dataframe\">\n",
       "  <thead>\n",
       "    <tr style=\"text-align: right;\">\n",
       "      <th></th>\n",
       "      <th>Day of Week</th>\n",
       "      <th>High</th>\n",
       "      <th>Low</th>\n",
       "      <th>Open</th>\n",
       "      <th>Close</th>\n",
       "      <th>Volume</th>\n",
       "      <th>Adj Close</th>\n",
       "    </tr>\n",
       "    <tr>\n",
       "      <th>Date</th>\n",
       "      <th></th>\n",
       "      <th></th>\n",
       "      <th></th>\n",
       "      <th></th>\n",
       "      <th></th>\n",
       "      <th></th>\n",
       "      <th></th>\n",
       "    </tr>\n",
       "  </thead>\n",
       "  <tbody>\n",
       "    <tr>\n",
       "      <th>2015-01-02</th>\n",
       "      <td>Friday</td>\n",
       "      <td>44.650002</td>\n",
       "      <td>42.652000</td>\n",
       "      <td>44.574001</td>\n",
       "      <td>43.862000</td>\n",
       "      <td>23822000.0</td>\n",
       "      <td>43.862000</td>\n",
       "    </tr>\n",
       "    <tr>\n",
       "      <th>2015-01-05</th>\n",
       "      <td>Monday</td>\n",
       "      <td>43.299999</td>\n",
       "      <td>41.431999</td>\n",
       "      <td>42.910000</td>\n",
       "      <td>42.018002</td>\n",
       "      <td>26842500.0</td>\n",
       "      <td>42.018002</td>\n",
       "    </tr>\n",
       "    <tr>\n",
       "      <th>2015-01-06</th>\n",
       "      <td>Tuesday</td>\n",
       "      <td>42.840000</td>\n",
       "      <td>40.841999</td>\n",
       "      <td>42.012001</td>\n",
       "      <td>42.256001</td>\n",
       "      <td>31309500.0</td>\n",
       "      <td>42.256001</td>\n",
       "    </tr>\n",
       "  </tbody>\n",
       "</table>\n",
       "</div>"
      ],
      "text/plain": [
       "           Day of Week       High        Low       Open      Close  \\\n",
       "Date                                                                 \n",
       "2015-01-02      Friday  44.650002  42.652000  44.574001  43.862000   \n",
       "2015-01-05      Monday  43.299999  41.431999  42.910000  42.018002   \n",
       "2015-01-06     Tuesday  42.840000  40.841999  42.012001  42.256001   \n",
       "\n",
       "                Volume  Adj Close  \n",
       "Date                               \n",
       "2015-01-02  23822000.0  43.862000  \n",
       "2015-01-05  26842500.0  42.018002  \n",
       "2015-01-06  31309500.0  42.256001  "
      ]
     },
     "execution_count": 81,
     "metadata": {},
     "output_type": "execute_result"
    }
   ],
   "source": [
    "stocks.head(3)"
   ]
  },
  {
   "cell_type": "code",
   "execution_count": 82,
   "id": "3aa33e10",
   "metadata": {},
   "outputs": [],
   "source": [
    "stocks.insert(1, \"Is Start of Month\", stocks.index.is_month_start)"
   ]
  },
  {
   "cell_type": "code",
   "execution_count": 85,
   "id": "005ebd93",
   "metadata": {
    "scrolled": true
   },
   "outputs": [
    {
     "data": {
      "text/html": [
       "<div>\n",
       "<style scoped>\n",
       "    .dataframe tbody tr th:only-of-type {\n",
       "        vertical-align: middle;\n",
       "    }\n",
       "\n",
       "    .dataframe tbody tr th {\n",
       "        vertical-align: top;\n",
       "    }\n",
       "\n",
       "    .dataframe thead th {\n",
       "        text-align: right;\n",
       "    }\n",
       "</style>\n",
       "<table border=\"1\" class=\"dataframe\">\n",
       "  <thead>\n",
       "    <tr style=\"text-align: right;\">\n",
       "      <th></th>\n",
       "      <th>Day of Week</th>\n",
       "      <th>Is Start of Month</th>\n",
       "      <th>High</th>\n",
       "      <th>Low</th>\n",
       "      <th>Open</th>\n",
       "      <th>Close</th>\n",
       "      <th>Volume</th>\n",
       "      <th>Adj Close</th>\n",
       "    </tr>\n",
       "    <tr>\n",
       "      <th>Date</th>\n",
       "      <th></th>\n",
       "      <th></th>\n",
       "      <th></th>\n",
       "      <th></th>\n",
       "      <th></th>\n",
       "      <th></th>\n",
       "      <th></th>\n",
       "      <th></th>\n",
       "    </tr>\n",
       "  </thead>\n",
       "  <tbody>\n",
       "    <tr>\n",
       "      <th>2015-04-01</th>\n",
       "      <td>Wednesday</td>\n",
       "      <td>True</td>\n",
       "      <td>38.459999</td>\n",
       "      <td>37.209999</td>\n",
       "      <td>37.740002</td>\n",
       "      <td>37.518002</td>\n",
       "      <td>18973000.0</td>\n",
       "      <td>37.518002</td>\n",
       "    </tr>\n",
       "    <tr>\n",
       "      <th>2015-05-01</th>\n",
       "      <td>Friday</td>\n",
       "      <td>True</td>\n",
       "      <td>46.354000</td>\n",
       "      <td>44.082001</td>\n",
       "      <td>45.987999</td>\n",
       "      <td>45.206001</td>\n",
       "      <td>26408500.0</td>\n",
       "      <td>45.206001</td>\n",
       "    </tr>\n",
       "    <tr>\n",
       "      <th>2015-06-01</th>\n",
       "      <td>Monday</td>\n",
       "      <td>True</td>\n",
       "      <td>50.320000</td>\n",
       "      <td>49.493999</td>\n",
       "      <td>50.282001</td>\n",
       "      <td>49.889999</td>\n",
       "      <td>12525500.0</td>\n",
       "      <td>49.889999</td>\n",
       "    </tr>\n",
       "    <tr>\n",
       "      <th>2015-07-01</th>\n",
       "      <td>Wednesday</td>\n",
       "      <td>True</td>\n",
       "      <td>54.523998</td>\n",
       "      <td>53.570000</td>\n",
       "      <td>54.222000</td>\n",
       "      <td>53.830002</td>\n",
       "      <td>10506000.0</td>\n",
       "      <td>53.830002</td>\n",
       "    </tr>\n",
       "    <tr>\n",
       "      <th>2015-09-01</th>\n",
       "      <td>Tuesday</td>\n",
       "      <td>True</td>\n",
       "      <td>49.200001</td>\n",
       "      <td>47.394001</td>\n",
       "      <td>48.068001</td>\n",
       "      <td>47.726002</td>\n",
       "      <td>27274000.0</td>\n",
       "      <td>47.726002</td>\n",
       "    </tr>\n",
       "  </tbody>\n",
       "</table>\n",
       "</div>"
      ],
      "text/plain": [
       "           Day of Week  Is Start of Month       High        Low       Open  \\\n",
       "Date                                                                         \n",
       "2015-04-01   Wednesday               True  38.459999  37.209999  37.740002   \n",
       "2015-05-01      Friday               True  46.354000  44.082001  45.987999   \n",
       "2015-06-01      Monday               True  50.320000  49.493999  50.282001   \n",
       "2015-07-01   Wednesday               True  54.523998  53.570000  54.222000   \n",
       "2015-09-01     Tuesday               True  49.200001  47.394001  48.068001   \n",
       "\n",
       "                Close      Volume  Adj Close  \n",
       "Date                                          \n",
       "2015-04-01  37.518002  18973000.0  37.518002  \n",
       "2015-05-01  45.206001  26408500.0  45.206001  \n",
       "2015-06-01  49.889999  12525500.0  49.889999  \n",
       "2015-07-01  53.830002  10506000.0  53.830002  \n",
       "2015-09-01  47.726002  27274000.0  47.726002  "
      ]
     },
     "execution_count": 85,
     "metadata": {},
     "output_type": "execute_result"
    }
   ],
   "source": [
    "stocks[stocks[\"Is Start of Month\"]].head(5)"
   ]
  },
  {
   "cell_type": "markdown",
   "id": "90a54ab4",
   "metadata": {},
   "source": [
    "## The pd.DateOffset Object"
   ]
  },
  {
   "cell_type": "code",
   "execution_count": 89,
   "id": "0cb09311",
   "metadata": {},
   "outputs": [
    {
     "data": {
      "text/html": [
       "<div>\n",
       "<style scoped>\n",
       "    .dataframe tbody tr th:only-of-type {\n",
       "        vertical-align: middle;\n",
       "    }\n",
       "\n",
       "    .dataframe tbody tr th {\n",
       "        vertical-align: top;\n",
       "    }\n",
       "\n",
       "    .dataframe thead th {\n",
       "        text-align: right;\n",
       "    }\n",
       "</style>\n",
       "<table border=\"1\" class=\"dataframe\">\n",
       "  <thead>\n",
       "    <tr style=\"text-align: right;\">\n",
       "      <th></th>\n",
       "      <th>High</th>\n",
       "      <th>Low</th>\n",
       "      <th>Open</th>\n",
       "      <th>Close</th>\n",
       "      <th>Volume</th>\n",
       "      <th>Adj Close</th>\n",
       "    </tr>\n",
       "    <tr>\n",
       "      <th>Date</th>\n",
       "      <th></th>\n",
       "      <th></th>\n",
       "      <th></th>\n",
       "      <th></th>\n",
       "      <th></th>\n",
       "      <th></th>\n",
       "    </tr>\n",
       "  </thead>\n",
       "  <tbody>\n",
       "    <tr>\n",
       "      <th>2015-01-02</th>\n",
       "      <td>44.650002</td>\n",
       "      <td>42.652000</td>\n",
       "      <td>44.574001</td>\n",
       "      <td>43.862000</td>\n",
       "      <td>23822000.0</td>\n",
       "      <td>43.862000</td>\n",
       "    </tr>\n",
       "    <tr>\n",
       "      <th>2015-01-05</th>\n",
       "      <td>43.299999</td>\n",
       "      <td>41.431999</td>\n",
       "      <td>42.910000</td>\n",
       "      <td>42.018002</td>\n",
       "      <td>26842500.0</td>\n",
       "      <td>42.018002</td>\n",
       "    </tr>\n",
       "    <tr>\n",
       "      <th>2015-01-06</th>\n",
       "      <td>42.840000</td>\n",
       "      <td>40.841999</td>\n",
       "      <td>42.012001</td>\n",
       "      <td>42.256001</td>\n",
       "      <td>31309500.0</td>\n",
       "      <td>42.256001</td>\n",
       "    </tr>\n",
       "    <tr>\n",
       "      <th>2015-01-07</th>\n",
       "      <td>42.956001</td>\n",
       "      <td>41.956001</td>\n",
       "      <td>42.669998</td>\n",
       "      <td>42.189999</td>\n",
       "      <td>14842000.0</td>\n",
       "      <td>42.189999</td>\n",
       "    </tr>\n",
       "    <tr>\n",
       "      <th>2015-01-08</th>\n",
       "      <td>42.759998</td>\n",
       "      <td>42.001999</td>\n",
       "      <td>42.562000</td>\n",
       "      <td>42.124001</td>\n",
       "      <td>17212500.0</td>\n",
       "      <td>42.124001</td>\n",
       "    </tr>\n",
       "  </tbody>\n",
       "</table>\n",
       "</div>"
      ],
      "text/plain": [
       "                 High        Low       Open      Close      Volume  Adj Close\n",
       "Date                                                                         \n",
       "2015-01-02  44.650002  42.652000  44.574001  43.862000  23822000.0  43.862000\n",
       "2015-01-05  43.299999  41.431999  42.910000  42.018002  26842500.0  42.018002\n",
       "2015-01-06  42.840000  40.841999  42.012001  42.256001  31309500.0  42.256001\n",
       "2015-01-07  42.956001  41.956001  42.669998  42.189999  14842000.0  42.189999\n",
       "2015-01-08  42.759998  42.001999  42.562000  42.124001  17212500.0  42.124001"
      ]
     },
     "execution_count": 89,
     "metadata": {},
     "output_type": "execute_result"
    }
   ],
   "source": [
    "stocks = data.DataReader(name=\"TSLA\", data_source=\"yahoo\", start=\"2015-01-01\", end=\"2022-01-01\")\n",
    "stocks.head(5)"
   ]
  },
  {
   "cell_type": "code",
   "execution_count": 87,
   "id": "021a0fc9",
   "metadata": {},
   "outputs": [
    {
     "data": {
      "text/plain": [
       "DatetimeIndex(['2015-01-07', '2015-01-10', '2015-01-11', '2015-01-12',\n",
       "               '2015-01-13', '2015-01-14', '2015-01-17', '2015-01-18',\n",
       "               '2015-01-19', '2015-01-20',\n",
       "               ...\n",
       "               '2021-12-22', '2021-12-25', '2021-12-26', '2021-12-27',\n",
       "               '2021-12-28', '2022-01-01', '2022-01-02', '2022-01-03',\n",
       "               '2022-01-04', '2022-01-05'],\n",
       "              dtype='datetime64[ns]', name='Date', length=1763, freq=None)"
      ]
     },
     "execution_count": 87,
     "metadata": {},
     "output_type": "execute_result"
    }
   ],
   "source": [
    "stocks.index + pd.DateOffset(days=5)"
   ]
  },
  {
   "cell_type": "code",
   "execution_count": 90,
   "id": "c142a7a9",
   "metadata": {},
   "outputs": [
    {
     "data": {
      "text/plain": [
       "DatetimeIndex(['2015-02-06', '2015-02-09', '2015-02-10', '2015-02-11',\n",
       "               '2015-02-12', '2015-02-13', '2015-02-16', '2015-02-17',\n",
       "               '2015-02-18', '2015-02-19',\n",
       "               ...\n",
       "               '2022-01-21', '2022-01-24', '2022-01-25', '2022-01-26',\n",
       "               '2022-01-27', '2022-01-31', '2022-02-01', '2022-02-02',\n",
       "               '2022-02-03', '2022-02-04'],\n",
       "              dtype='datetime64[ns]', name='Date', length=1763, freq=None)"
      ]
     },
     "execution_count": 90,
     "metadata": {},
     "output_type": "execute_result"
    }
   ],
   "source": [
    "stocks.index + pd.DateOffset(weeks=5)"
   ]
  },
  {
   "cell_type": "markdown",
   "id": "faec82d0",
   "metadata": {},
   "source": [
    "## Timeseries Offsets"
   ]
  },
  {
   "cell_type": "code",
   "execution_count": 91,
   "id": "371cb78a",
   "metadata": {},
   "outputs": [
    {
     "data": {
      "text/html": [
       "<div>\n",
       "<style scoped>\n",
       "    .dataframe tbody tr th:only-of-type {\n",
       "        vertical-align: middle;\n",
       "    }\n",
       "\n",
       "    .dataframe tbody tr th {\n",
       "        vertical-align: top;\n",
       "    }\n",
       "\n",
       "    .dataframe thead th {\n",
       "        text-align: right;\n",
       "    }\n",
       "</style>\n",
       "<table border=\"1\" class=\"dataframe\">\n",
       "  <thead>\n",
       "    <tr style=\"text-align: right;\">\n",
       "      <th></th>\n",
       "      <th>High</th>\n",
       "      <th>Low</th>\n",
       "      <th>Open</th>\n",
       "      <th>Close</th>\n",
       "      <th>Volume</th>\n",
       "      <th>Adj Close</th>\n",
       "    </tr>\n",
       "    <tr>\n",
       "      <th>Date</th>\n",
       "      <th></th>\n",
       "      <th></th>\n",
       "      <th></th>\n",
       "      <th></th>\n",
       "      <th></th>\n",
       "      <th></th>\n",
       "    </tr>\n",
       "  </thead>\n",
       "  <tbody>\n",
       "    <tr>\n",
       "      <th>2015-01-02</th>\n",
       "      <td>44.650002</td>\n",
       "      <td>42.652000</td>\n",
       "      <td>44.574001</td>\n",
       "      <td>43.862000</td>\n",
       "      <td>23822000.0</td>\n",
       "      <td>43.862000</td>\n",
       "    </tr>\n",
       "    <tr>\n",
       "      <th>2015-01-05</th>\n",
       "      <td>43.299999</td>\n",
       "      <td>41.431999</td>\n",
       "      <td>42.910000</td>\n",
       "      <td>42.018002</td>\n",
       "      <td>26842500.0</td>\n",
       "      <td>42.018002</td>\n",
       "    </tr>\n",
       "    <tr>\n",
       "      <th>2015-01-06</th>\n",
       "      <td>42.840000</td>\n",
       "      <td>40.841999</td>\n",
       "      <td>42.012001</td>\n",
       "      <td>42.256001</td>\n",
       "      <td>31309500.0</td>\n",
       "      <td>42.256001</td>\n",
       "    </tr>\n",
       "    <tr>\n",
       "      <th>2015-01-07</th>\n",
       "      <td>42.956001</td>\n",
       "      <td>41.956001</td>\n",
       "      <td>42.669998</td>\n",
       "      <td>42.189999</td>\n",
       "      <td>14842000.0</td>\n",
       "      <td>42.189999</td>\n",
       "    </tr>\n",
       "    <tr>\n",
       "      <th>2015-01-08</th>\n",
       "      <td>42.759998</td>\n",
       "      <td>42.001999</td>\n",
       "      <td>42.562000</td>\n",
       "      <td>42.124001</td>\n",
       "      <td>17212500.0</td>\n",
       "      <td>42.124001</td>\n",
       "    </tr>\n",
       "  </tbody>\n",
       "</table>\n",
       "</div>"
      ],
      "text/plain": [
       "                 High        Low       Open      Close      Volume  Adj Close\n",
       "Date                                                                         \n",
       "2015-01-02  44.650002  42.652000  44.574001  43.862000  23822000.0  43.862000\n",
       "2015-01-05  43.299999  41.431999  42.910000  42.018002  26842500.0  42.018002\n",
       "2015-01-06  42.840000  40.841999  42.012001  42.256001  31309500.0  42.256001\n",
       "2015-01-07  42.956001  41.956001  42.669998  42.189999  14842000.0  42.189999\n",
       "2015-01-08  42.759998  42.001999  42.562000  42.124001  17212500.0  42.124001"
      ]
     },
     "execution_count": 91,
     "metadata": {},
     "output_type": "execute_result"
    }
   ],
   "source": [
    "stocks = data.DataReader(name=\"TSLA\", data_source=\"yahoo\", start=\"2015-01-01\", end=\"2022-01-01\")\n",
    "stocks.head(5)"
   ]
  },
  {
   "cell_type": "code",
   "execution_count": 93,
   "id": "fed313dd",
   "metadata": {},
   "outputs": [
    {
     "data": {
      "text/plain": [
       "DatetimeIndex(['2015-01-31', '2015-01-31', '2015-01-31', '2015-01-31',\n",
       "               '2015-01-31', '2015-01-31', '2015-01-31', '2015-01-31',\n",
       "               '2015-01-31', '2015-01-31',\n",
       "               ...\n",
       "               '2021-12-31', '2021-12-31', '2021-12-31', '2021-12-31',\n",
       "               '2021-12-31', '2021-12-31', '2021-12-31', '2021-12-31',\n",
       "               '2021-12-31', '2022-01-31'],\n",
       "              dtype='datetime64[ns]', name='Date', length=1763, freq=None)"
      ]
     },
     "execution_count": 93,
     "metadata": {},
     "output_type": "execute_result"
    }
   ],
   "source": [
    "stocks.index + pd.tseries.offsets.MonthEnd()"
   ]
  },
  {
   "cell_type": "code",
   "execution_count": 94,
   "id": "78b44cdc",
   "metadata": {},
   "outputs": [
    {
     "data": {
      "text/html": [
       "<div>\n",
       "<style scoped>\n",
       "    .dataframe tbody tr th:only-of-type {\n",
       "        vertical-align: middle;\n",
       "    }\n",
       "\n",
       "    .dataframe tbody tr th {\n",
       "        vertical-align: top;\n",
       "    }\n",
       "\n",
       "    .dataframe thead th {\n",
       "        text-align: right;\n",
       "    }\n",
       "</style>\n",
       "<table border=\"1\" class=\"dataframe\">\n",
       "  <thead>\n",
       "    <tr style=\"text-align: right;\">\n",
       "      <th></th>\n",
       "      <th>High</th>\n",
       "      <th>Low</th>\n",
       "      <th>Open</th>\n",
       "      <th>Close</th>\n",
       "      <th>Volume</th>\n",
       "      <th>Adj Close</th>\n",
       "    </tr>\n",
       "    <tr>\n",
       "      <th>Date</th>\n",
       "      <th></th>\n",
       "      <th></th>\n",
       "      <th></th>\n",
       "      <th></th>\n",
       "      <th></th>\n",
       "      <th></th>\n",
       "    </tr>\n",
       "  </thead>\n",
       "  <tbody>\n",
       "    <tr>\n",
       "      <th>2015-01-02</th>\n",
       "      <td>44.650002</td>\n",
       "      <td>42.652000</td>\n",
       "      <td>44.574001</td>\n",
       "      <td>43.862000</td>\n",
       "      <td>23822000.0</td>\n",
       "      <td>43.862000</td>\n",
       "    </tr>\n",
       "    <tr>\n",
       "      <th>2015-01-05</th>\n",
       "      <td>43.299999</td>\n",
       "      <td>41.431999</td>\n",
       "      <td>42.910000</td>\n",
       "      <td>42.018002</td>\n",
       "      <td>26842500.0</td>\n",
       "      <td>42.018002</td>\n",
       "    </tr>\n",
       "    <tr>\n",
       "      <th>2015-01-06</th>\n",
       "      <td>42.840000</td>\n",
       "      <td>40.841999</td>\n",
       "      <td>42.012001</td>\n",
       "      <td>42.256001</td>\n",
       "      <td>31309500.0</td>\n",
       "      <td>42.256001</td>\n",
       "    </tr>\n",
       "  </tbody>\n",
       "</table>\n",
       "</div>"
      ],
      "text/plain": [
       "                 High        Low       Open      Close      Volume  Adj Close\n",
       "Date                                                                         \n",
       "2015-01-02  44.650002  42.652000  44.574001  43.862000  23822000.0  43.862000\n",
       "2015-01-05  43.299999  41.431999  42.910000  42.018002  26842500.0  42.018002\n",
       "2015-01-06  42.840000  40.841999  42.012001  42.256001  31309500.0  42.256001"
      ]
     },
     "execution_count": 94,
     "metadata": {},
     "output_type": "execute_result"
    }
   ],
   "source": [
    "stocks.head(3)"
   ]
  },
  {
   "cell_type": "code",
   "execution_count": 95,
   "id": "08171ad7",
   "metadata": {},
   "outputs": [
    {
     "data": {
      "text/plain": [
       "DatetimeIndex(['2014-12-31', '2014-12-31', '2014-12-31', '2014-12-31',\n",
       "               '2014-12-31', '2014-12-31', '2014-12-31', '2014-12-31',\n",
       "               '2014-12-31', '2014-12-31',\n",
       "               ...\n",
       "               '2021-11-30', '2021-11-30', '2021-11-30', '2021-11-30',\n",
       "               '2021-11-30', '2021-11-30', '2021-11-30', '2021-11-30',\n",
       "               '2021-11-30', '2021-11-30'],\n",
       "              dtype='datetime64[ns]', name='Date', length=1763, freq=None)"
      ]
     },
     "execution_count": 95,
     "metadata": {},
     "output_type": "execute_result"
    }
   ],
   "source": [
    "stocks.index - pd.tseries.offsets.MonthEnd()"
   ]
  },
  {
   "cell_type": "code",
   "execution_count": 96,
   "id": "7abc2f91",
   "metadata": {},
   "outputs": [
    {
     "data": {
      "text/plain": [
       "DatetimeIndex(['2015-02-01', '2015-02-01', '2015-02-01', '2015-02-01',\n",
       "               '2015-02-01', '2015-02-01', '2015-02-01', '2015-02-01',\n",
       "               '2015-02-01', '2015-02-01',\n",
       "               ...\n",
       "               '2022-01-01', '2022-01-01', '2022-01-01', '2022-01-01',\n",
       "               '2022-01-01', '2022-01-01', '2022-01-01', '2022-01-01',\n",
       "               '2022-01-01', '2022-01-01'],\n",
       "              dtype='datetime64[ns]', name='Date', length=1763, freq=None)"
      ]
     },
     "execution_count": 96,
     "metadata": {},
     "output_type": "execute_result"
    }
   ],
   "source": [
    "stocks.index + pd.tseries.offsets.MonthBegin()"
   ]
  },
  {
   "cell_type": "code",
   "execution_count": 98,
   "id": "e3bd11ae",
   "metadata": {},
   "outputs": [
    {
     "data": {
      "text/plain": [
       "DatetimeIndex(['2014-12-31', '2014-12-31', '2014-12-31', '2014-12-31',\n",
       "               '2014-12-31', '2014-12-31', '2014-12-31', '2014-12-31',\n",
       "               '2014-12-31', '2014-12-31',\n",
       "               ...\n",
       "               '2021-11-30', '2021-11-30', '2021-11-30', '2021-11-30',\n",
       "               '2021-11-30', '2021-11-30', '2021-11-30', '2021-11-30',\n",
       "               '2021-11-30', '2021-11-30'],\n",
       "              dtype='datetime64[ns]', name='Date', length=1763, freq=None)"
      ]
     },
     "execution_count": 98,
     "metadata": {},
     "output_type": "execute_result"
    }
   ],
   "source": [
    "from pandas.tseries import offsets\n",
    "stocks.index - offsets.BMonthEnd()"
   ]
  },
  {
   "cell_type": "code",
   "execution_count": 99,
   "id": "eb917d6f",
   "metadata": {},
   "outputs": [
    {
     "data": {
      "text/plain": [
       "DatetimeIndex(['2015-12-31', '2015-12-31', '2015-12-31', '2015-12-31',\n",
       "               '2015-12-31', '2015-12-31', '2015-12-31', '2015-12-31',\n",
       "               '2015-12-31', '2015-12-31',\n",
       "               ...\n",
       "               '2021-12-31', '2021-12-31', '2021-12-31', '2021-12-31',\n",
       "               '2021-12-31', '2021-12-31', '2021-12-31', '2021-12-31',\n",
       "               '2021-12-31', '2022-12-31'],\n",
       "              dtype='datetime64[ns]', name='Date', length=1763, freq=None)"
      ]
     },
     "execution_count": 99,
     "metadata": {},
     "output_type": "execute_result"
    }
   ],
   "source": [
    "stocks.index + offsets.YearEnd()"
   ]
  },
  {
   "cell_type": "markdown",
   "id": "6b765c3a",
   "metadata": {},
   "source": [
    "## Timedelta Object"
   ]
  },
  {
   "cell_type": "code",
   "execution_count": 103,
   "id": "ad095f2b",
   "metadata": {},
   "outputs": [],
   "source": [
    "time_b = pd.Timestamp(\"2020-03-21 15:32:13\")\n",
    "time_a = pd.Timestamp(\"2020-05-21 21:21:22\")\n",
    "\n",
    "d = time_a - time_b\n"
   ]
  },
  {
   "cell_type": "code",
   "execution_count": 104,
   "id": "62b26de1",
   "metadata": {},
   "outputs": [
    {
     "data": {
      "text/plain": [
       "pandas._libs.tslibs.timedeltas.Timedelta"
      ]
     },
     "execution_count": 104,
     "metadata": {},
     "output_type": "execute_result"
    }
   ],
   "source": [
    "type(d)"
   ]
  },
  {
   "cell_type": "code",
   "execution_count": 105,
   "id": "5ed50e54",
   "metadata": {},
   "outputs": [
    {
     "data": {
      "text/plain": [
       "Timedelta('10 days 00:00:00')"
      ]
     },
     "execution_count": 105,
     "metadata": {},
     "output_type": "execute_result"
    }
   ],
   "source": [
    "pd.Timedelta(days=10)"
   ]
  },
  {
   "cell_type": "code",
   "execution_count": 107,
   "id": "beeb25f6",
   "metadata": {},
   "outputs": [
    {
     "data": {
      "text/plain": [
       "Timestamp('2020-06-01 02:43:22')"
      ]
     },
     "execution_count": 107,
     "metadata": {},
     "output_type": "execute_result"
    }
   ],
   "source": [
    "time_a + pd.Timedelta(days=10, hours=5, minutes=22)"
   ]
  },
  {
   "cell_type": "markdown",
   "id": "7e5507c5",
   "metadata": {},
   "source": [
    "## Timedeltas in a Dataset"
   ]
  },
  {
   "cell_type": "code",
   "execution_count": 111,
   "id": "bf5817b6",
   "metadata": {},
   "outputs": [
    {
     "data": {
      "text/html": [
       "<div>\n",
       "<style scoped>\n",
       "    .dataframe tbody tr th:only-of-type {\n",
       "        vertical-align: middle;\n",
       "    }\n",
       "\n",
       "    .dataframe tbody tr th {\n",
       "        vertical-align: top;\n",
       "    }\n",
       "\n",
       "    .dataframe thead th {\n",
       "        text-align: right;\n",
       "    }\n",
       "</style>\n",
       "<table border=\"1\" class=\"dataframe\">\n",
       "  <thead>\n",
       "    <tr style=\"text-align: right;\">\n",
       "      <th></th>\n",
       "      <th>order_date</th>\n",
       "      <th>delivery_date</th>\n",
       "    </tr>\n",
       "    <tr>\n",
       "      <th>ID</th>\n",
       "      <th></th>\n",
       "      <th></th>\n",
       "    </tr>\n",
       "  </thead>\n",
       "  <tbody>\n",
       "    <tr>\n",
       "      <th>1</th>\n",
       "      <td>1998-05-24</td>\n",
       "      <td>1999-02-05</td>\n",
       "    </tr>\n",
       "    <tr>\n",
       "      <th>2</th>\n",
       "      <td>1992-04-22</td>\n",
       "      <td>1998-03-06</td>\n",
       "    </tr>\n",
       "    <tr>\n",
       "      <th>4</th>\n",
       "      <td>1991-02-10</td>\n",
       "      <td>1992-08-26</td>\n",
       "    </tr>\n",
       "  </tbody>\n",
       "</table>\n",
       "</div>"
      ],
      "text/plain": [
       "   order_date delivery_date\n",
       "ID                         \n",
       "1  1998-05-24    1999-02-05\n",
       "2  1992-04-22    1998-03-06\n",
       "4  1991-02-10    1992-08-26"
      ]
     },
     "execution_count": 111,
     "metadata": {},
     "output_type": "execute_result"
    }
   ],
   "source": [
    "shipping = pd.read_csv(\"ecommerce.csv\", index_col=\"ID\", parse_dates=[\"order_date\", \"delivery_date\"])\n",
    "shipping.head(3)"
   ]
  },
  {
   "cell_type": "code",
   "execution_count": 113,
   "id": "ef31c2f4",
   "metadata": {},
   "outputs": [],
   "source": [
    "shipping[\"Delivery_time\"] = shipping.delivery_date - shipping.order_date"
   ]
  },
  {
   "cell_type": "code",
   "execution_count": 114,
   "id": "b28c2e60",
   "metadata": {},
   "outputs": [
    {
     "data": {
      "text/html": [
       "<div>\n",
       "<style scoped>\n",
       "    .dataframe tbody tr th:only-of-type {\n",
       "        vertical-align: middle;\n",
       "    }\n",
       "\n",
       "    .dataframe tbody tr th {\n",
       "        vertical-align: top;\n",
       "    }\n",
       "\n",
       "    .dataframe thead th {\n",
       "        text-align: right;\n",
       "    }\n",
       "</style>\n",
       "<table border=\"1\" class=\"dataframe\">\n",
       "  <thead>\n",
       "    <tr style=\"text-align: right;\">\n",
       "      <th></th>\n",
       "      <th>order_date</th>\n",
       "      <th>delivery_date</th>\n",
       "      <th>Delivery_time</th>\n",
       "    </tr>\n",
       "    <tr>\n",
       "      <th>ID</th>\n",
       "      <th></th>\n",
       "      <th></th>\n",
       "      <th></th>\n",
       "    </tr>\n",
       "  </thead>\n",
       "  <tbody>\n",
       "    <tr>\n",
       "      <th>1</th>\n",
       "      <td>1998-05-24</td>\n",
       "      <td>1999-02-05</td>\n",
       "      <td>257 days</td>\n",
       "    </tr>\n",
       "    <tr>\n",
       "      <th>2</th>\n",
       "      <td>1992-04-22</td>\n",
       "      <td>1998-03-06</td>\n",
       "      <td>2144 days</td>\n",
       "    </tr>\n",
       "    <tr>\n",
       "      <th>4</th>\n",
       "      <td>1991-02-10</td>\n",
       "      <td>1992-08-26</td>\n",
       "      <td>563 days</td>\n",
       "    </tr>\n",
       "  </tbody>\n",
       "</table>\n",
       "</div>"
      ],
      "text/plain": [
       "   order_date delivery_date Delivery_time\n",
       "ID                                       \n",
       "1  1998-05-24    1999-02-05      257 days\n",
       "2  1992-04-22    1998-03-06     2144 days\n",
       "4  1991-02-10    1992-08-26      563 days"
      ]
     },
     "execution_count": 114,
     "metadata": {},
     "output_type": "execute_result"
    }
   ],
   "source": [
    "shipping.head(3)"
   ]
  },
  {
   "cell_type": "code",
   "execution_count": 117,
   "id": "19af588c",
   "metadata": {},
   "outputs": [],
   "source": [
    "shipping[\"double_time\"] = shipping.delivery_date + shipping.Delivery_time"
   ]
  },
  {
   "cell_type": "code",
   "execution_count": 118,
   "id": "3ba56dfd",
   "metadata": {},
   "outputs": [
    {
     "data": {
      "text/html": [
       "<div>\n",
       "<style scoped>\n",
       "    .dataframe tbody tr th:only-of-type {\n",
       "        vertical-align: middle;\n",
       "    }\n",
       "\n",
       "    .dataframe tbody tr th {\n",
       "        vertical-align: top;\n",
       "    }\n",
       "\n",
       "    .dataframe thead th {\n",
       "        text-align: right;\n",
       "    }\n",
       "</style>\n",
       "<table border=\"1\" class=\"dataframe\">\n",
       "  <thead>\n",
       "    <tr style=\"text-align: right;\">\n",
       "      <th></th>\n",
       "      <th>order_date</th>\n",
       "      <th>delivery_date</th>\n",
       "      <th>Delivery_time</th>\n",
       "      <th>double_time</th>\n",
       "    </tr>\n",
       "    <tr>\n",
       "      <th>ID</th>\n",
       "      <th></th>\n",
       "      <th></th>\n",
       "      <th></th>\n",
       "      <th></th>\n",
       "    </tr>\n",
       "  </thead>\n",
       "  <tbody>\n",
       "    <tr>\n",
       "      <th>1</th>\n",
       "      <td>1998-05-24</td>\n",
       "      <td>1999-02-05</td>\n",
       "      <td>257 days</td>\n",
       "      <td>1999-10-20</td>\n",
       "    </tr>\n",
       "    <tr>\n",
       "      <th>2</th>\n",
       "      <td>1992-04-22</td>\n",
       "      <td>1998-03-06</td>\n",
       "      <td>2144 days</td>\n",
       "      <td>2004-01-18</td>\n",
       "    </tr>\n",
       "    <tr>\n",
       "      <th>4</th>\n",
       "      <td>1991-02-10</td>\n",
       "      <td>1992-08-26</td>\n",
       "      <td>563 days</td>\n",
       "      <td>1994-03-12</td>\n",
       "    </tr>\n",
       "  </tbody>\n",
       "</table>\n",
       "</div>"
      ],
      "text/plain": [
       "   order_date delivery_date Delivery_time double_time\n",
       "ID                                                   \n",
       "1  1998-05-24    1999-02-05      257 days  1999-10-20\n",
       "2  1992-04-22    1998-03-06     2144 days  2004-01-18\n",
       "4  1991-02-10    1992-08-26      563 days  1994-03-12"
      ]
     },
     "execution_count": 118,
     "metadata": {},
     "output_type": "execute_result"
    }
   ],
   "source": [
    "shipping.head(3)"
   ]
  },
  {
   "cell_type": "code",
   "execution_count": null,
   "id": "013cb443",
   "metadata": {},
   "outputs": [],
   "source": []
  },
  {
   "cell_type": "code",
   "execution_count": null,
   "id": "d671da5a",
   "metadata": {},
   "outputs": [],
   "source": []
  },
  {
   "cell_type": "code",
   "execution_count": null,
   "id": "9271fc0a",
   "metadata": {},
   "outputs": [],
   "source": []
  },
  {
   "cell_type": "code",
   "execution_count": null,
   "id": "c83ed6a9",
   "metadata": {},
   "outputs": [],
   "source": []
  }
 ],
 "metadata": {
  "kernelspec": {
   "display_name": "Python 3 (ipykernel)",
   "language": "python",
   "name": "python3"
  },
  "language_info": {
   "codemirror_mode": {
    "name": "ipython",
    "version": 3
   },
   "file_extension": ".py",
   "mimetype": "text/x-python",
   "name": "python",
   "nbconvert_exporter": "python",
   "pygments_lexer": "ipython3",
   "version": "3.9.7"
  }
 },
 "nbformat": 4,
 "nbformat_minor": 5
}
